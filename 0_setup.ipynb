{
 "cells": [
  {
   "cell_type": "code",
   "execution_count": null,
   "id": "41fa3bdb-50c4-4195-87fd-28d0c916ec66",
   "metadata": {},
   "outputs": [],
   "source": [
    "# install snowpark \n",
    "!pip install snowflake-snowpark-python\n",
    "!pip install \"snowflake-snowpark-python[pandas]\"\n",
    "# if you see errors related to pyarrow you may need to reinstall the right version of pyarrow with the below code\n",
    "# !pip install pyarrow==8.0.0\n",
    "\n",
    "# after this, if you see an error that looks like: ImportError: cannot import name 'NamedTuple' then you will have to install the right version of typing-extensions \n",
    "# with the below code then restart your kernel.\n",
    "# pip install 'typing-extensions>=4.3.0'"
   ]
  },
  {
   "cell_type": "markdown",
   "id": "ca55fc73-9400-4e8d-9981-9483f4b51ec4",
   "metadata": {},
   "source": [
    "## Imports"
   ]
  },
  {
   "cell_type": "code",
   "execution_count": null,
   "id": "a890851e-2c50-4e29-96cc-f3a58e574bb0",
   "metadata": {
    "tags": []
   },
   "outputs": [],
   "source": [
    "from snowflake.snowpark.session import Session\n",
    "import pandas as pd"
   ]
  },
  {
   "cell_type": "markdown",
   "id": "0d83105c-5f25-4fd5-aa43-f6c118171af9",
   "metadata": {},
   "source": [
    "## Create Snowpark Connection"
   ]
  },
  {
   "cell_type": "code",
   "execution_count": null,
   "id": "99020681-0f36-4cdd-860c-5af1b0a647bf",
   "metadata": {
    "tags": []
   },
   "outputs": [],
   "source": [
    "connection_parameters = {\n",
    "    \"account\": \"\",\n",
    "    \"user\": \"\", \n",
    "    \"host\": \"\", # e.g. \"sn00111.snowflakecomputing.com\",\n",
    "    \"password\": \"\",\n",
    "    \"role\": \"ACCOUNTADMIN\"\n",
    "    }\n",
    "session = Session.builder.configs(connection_parameters).create()"
   ]
  },
  {
   "cell_type": "markdown",
   "id": "497e9d13-c2f0-435d-bb2f-7284da9e6c32",
   "metadata": {
    "tags": []
   },
   "source": [
    "## Create Virtual Warehouse"
   ]
  },
  {
   "cell_type": "code",
   "execution_count": null,
   "id": "a2da87e9-a34d-4a41-9bc3-4c4f12078634",
   "metadata": {},
   "outputs": [],
   "source": [
    "# Create a Virtual Warehouse\n",
    "session.sql(\"CREATE OR REPLACE WAREHOUSE HOL_WH WITH WAREHOUSE_SIZE='X-SMALL'\").collect()"
   ]
  },
  {
   "cell_type": "markdown",
   "id": "1046c653-5277-4373-817b-d3a871c3159a",
   "metadata": {},
   "source": [
    "## Create Database for Lab"
   ]
  },
  {
   "cell_type": "code",
   "execution_count": null,
   "id": "e5db88db-6c64-41bb-9e3a-dff1841446bd",
   "metadata": {},
   "outputs": [],
   "source": [
    "# Create Databse\n",
    "session.sql(\"CREATE OR REPLACE DATABASE HOL_DB\").collect()"
   ]
  },
  {
   "cell_type": "markdown",
   "id": "43b2c05f-6399-470e-bb36-ce0aefb8815f",
   "metadata": {},
   "source": [
    "## Load HOL data"
   ]
  },
  {
   "cell_type": "code",
   "execution_count": null,
   "id": "96537f61-eef2-4789-80c3-9c5390c2241f",
   "metadata": {},
   "outputs": [],
   "source": [
    "# Loading from local CSV-files\n",
    "city_udi_df = pd.read_csv('city_udi.csv')\n",
    "humidity_df = pd.read_csv('humidity.csv')\n",
    "maintenance_df = pd.read_csv('maintenance.csv')"
   ]
  },
  {
   "cell_type": "code",
   "execution_count": null,
   "id": "9b2b9bac-1a7e-49e4-9a70-ae49fb2f1aea",
   "metadata": {},
   "outputs": [],
   "source": [
    "# Upload to Snowflake\n",
    "session.write_pandas(city_udi_df, table_name='CITY_UDF', auto_create_table=True, overwrite=True)\n",
    "session.write_pandas(humidity_df, table_name='HUMIDITY', auto_create_table=True, overwrite=True)\n",
    "session.write_pandas(maintenance_df, table_name='MAINTENANCE', auto_create_table=True, overwrite=True)"
   ]
  }
 ],
 "metadata": {
  "instance_type": "ml.g4dn.xlarge",
  "kernelspec": {
   "display_name": "Python 3 (PyTorch 1.12 Python 3.8 GPU Optimized)",
   "language": "python",
   "name": "python3__SAGEMAKER_INTERNAL__arn:aws:sagemaker:us-west-2:236514542706:image/pytorch-1.12-gpu-py38"
  },
  "language_info": {
   "codemirror_mode": {
    "name": "ipython",
    "version": 3
   },
   "file_extension": ".py",
   "mimetype": "text/x-python",
   "name": "python",
   "nbconvert_exporter": "python",
   "pygments_lexer": "ipython3",
   "version": "3.8.13"
  }
 },
 "nbformat": 4,
 "nbformat_minor": 5
}
